{
  "nbformat": 4,
  "nbformat_minor": 0,
  "metadata": {
    "colab": {
      "provenance": [],
      "authorship_tag": "ABX9TyODp1xv8nBcmXCIR50ZCZ+M",
      "include_colab_link": true
    },
    "kernelspec": {
      "name": "python3",
      "display_name": "Python 3"
    },
    "language_info": {
      "name": "python"
    }
  },
  "cells": [
    {
      "cell_type": "markdown",
      "metadata": {
        "id": "view-in-github",
        "colab_type": "text"
      },
      "source": [
        "<a href=\"https://colab.research.google.com/github/abhishek-kakde/test-porject/blob/master/ats_bypass1.ipynb\" target=\"_parent\"><img src=\"https://colab.research.google.com/assets/colab-badge.svg\" alt=\"Open In Colab\"/></a>"
      ]
    },
    {
      "cell_type": "code",
      "source": [
        "from google.colab import drive"
      ],
      "metadata": {
        "id": "HyxTJ2Wj-8_m"
      },
      "execution_count": 4,
      "outputs": []
    },
    {
      "cell_type": "code",
      "source": [
        "drive.mount('/content/drive')"
      ],
      "metadata": {
        "colab": {
          "base_uri": "https://localhost:8080/"
        },
        "id": "dUIMAsuP_A3q",
        "outputId": "4347e204-abb7-4df0-9cb0-71e696a5bc0d"
      },
      "execution_count": 5,
      "outputs": [
        {
          "output_type": "stream",
          "name": "stdout",
          "text": [
            "Mounted at /content/drive\n"
          ]
        }
      ]
    },
    {
      "cell_type": "code",
      "source": [
        "path = \"/content/drive/MyDrive/temp/resume_abhishek.pdf\""
      ],
      "metadata": {
        "id": "oQqPDQK8_mGD"
      },
      "execution_count": 6,
      "outputs": []
    },
    {
      "cell_type": "code",
      "source": [
        "!pip install pymupdf"
      ],
      "metadata": {
        "colab": {
          "base_uri": "https://localhost:8080/"
        },
        "id": "jijipbnNAC5b",
        "outputId": "a2edf38f-79fb-44e4-b6b0-34e5f2243206"
      },
      "execution_count": 11,
      "outputs": [
        {
          "output_type": "stream",
          "name": "stdout",
          "text": [
            "Collecting pymupdf\n",
            "  Downloading PyMuPDF-1.23.16-cp310-none-manylinux2014_x86_64.whl (4.4 MB)\n",
            "\u001b[2K     \u001b[90m━━━━━━━━━━━━━━━━━━━━━━━━━━━━━━━━━━━━━━━━\u001b[0m \u001b[32m4.4/4.4 MB\u001b[0m \u001b[31m17.4 MB/s\u001b[0m eta \u001b[36m0:00:00\u001b[0m\n",
            "\u001b[?25hCollecting PyMuPDFb==1.23.9 (from pymupdf)\n",
            "  Downloading PyMuPDFb-1.23.9-py3-none-manylinux2014_x86_64.manylinux_2_17_x86_64.whl (30.6 MB)\n",
            "\u001b[2K     \u001b[90m━━━━━━━━━━━━━━━━━━━━━━━━━━━━━━━━━━━━━━━━\u001b[0m \u001b[32m30.6/30.6 MB\u001b[0m \u001b[31m29.1 MB/s\u001b[0m eta \u001b[36m0:00:00\u001b[0m\n",
            "\u001b[?25hInstalling collected packages: PyMuPDFb, pymupdf\n",
            "Successfully installed PyMuPDFb-1.23.9 pymupdf-1.23.16\n"
          ]
        }
      ]
    },
    {
      "cell_type": "code",
      "source": [],
      "metadata": {
        "id": "BZGTtd0fAGHt"
      },
      "execution_count": null,
      "outputs": []
    },
    {
      "cell_type": "code",
      "execution_count": 14,
      "metadata": {
        "colab": {
          "base_uri": "https://localhost:8080/"
        },
        "id": "cAdHlbJ987sY",
        "outputId": "d6bc56b0-e3be-437c-ea96-1275f27e63d4"
      },
      "outputs": [
        {
          "output_type": "stream",
          "name": "stdout",
          "text": [
            "Missing Keywords in Resume:\n",
            "- limit\n",
            "- knowledge\n",
            "- bsc\n",
            "- stream\n",
            "- programminginterpersonal\n",
            "- frameworks\n",
            "- introduction\n",
            "- types\n",
            "- xml\n",
            "- confidence\n",
            "- bcca\n",
            "- skillproblem\n",
            "- central\n",
            "- etl\n",
            "- theorem\n",
            "- table\n",
            "- structures\n",
            "- traineerole\n",
            "- hiring\n",
            "- funnel\n",
            "- be\n",
            "- etc\n",
            "- traineequalification\n",
            "- importance\n",
            "- javascript\n",
            "- or\n",
            "- description\n",
            "- variation\n",
            "- msc\n",
            "- basic\n",
            "- mca\n",
            "- sampling\n",
            "- strong\n",
            "- bca\n",
            "- required\n",
            "- components\n"
          ]
        }
      ],
      "source": [
        "import fitz  # PyMuPDF\n",
        "import re\n",
        "\n",
        "def extract_text_from_pdf(pdf_path):\n",
        "    \"\"\"\n",
        "    Extracts text from a PDF file using PyMuPDF.\n",
        "    \"\"\"\n",
        "    text = \"\"\n",
        "    with fitz.open(pdf_path) as pdf_document:\n",
        "        for page_num in range(pdf_document.page_count):\n",
        "            page = pdf_document[page_num]\n",
        "            text += page.get_text()\n",
        "    return text\n",
        "\n",
        "def find_missing_keywords(resume_text, job_description):\n",
        "    \"\"\"\n",
        "    Finds missing keywords in the resume compared to the job description.\n",
        "    \"\"\"\n",
        "    job_keywords = set(re.findall(r'\\b\\w+\\b', job_description.lower()))\n",
        "    resume_keywords = set(re.findall(r'\\b\\w+\\b', resume_text.lower()))\n",
        "\n",
        "    missing_keywords = job_keywords - resume_keywords\n",
        "\n",
        "    return missing_keywords\n",
        "\n",
        "# Example Usage\n",
        "if __name__ == \"__main__\":\n",
        "    # Replace these paths with your actual file paths\n",
        "    resume_pdf_path = path\n",
        "    job_description = \"Hiring For Data Analytics TraineeRole: TraineeQualification: BE (any stream) MCA, BCA, BCCA, BSC, MSC.Skills Required: Basic ProgrammingInterpersonal skillProblem solving Strong knowledge of databases (SQL etc.), programming (XML, JavaScript, or ETL frameworks)Description:· Introduction to Data Analytics· Importance of Data Analytics·Sampling Funnel, Sampling Variation, Central Limit Theorem, Confidence·Python Data Structures & Data Types·Other Power BI Components and Table\"\n",
        "\n",
        "    # Extract text from the PDF resume\n",
        "    resume_text = extract_text_from_pdf(resume_pdf_path)\n",
        "\n",
        "    # Find missing keywords\n",
        "    missing_keywords = find_missing_keywords(resume_text, job_description)\n",
        "\n",
        "    # Print the missing keywords\n",
        "    if missing_keywords:\n",
        "        print(\"Missing Keywords in Resume:\")\n",
        "        for keyword in missing_keywords:\n",
        "            print(\"-\", keyword)\n",
        "    else:\n",
        "        print(\"No missing keywords found.\")"
      ]
    },
    {
      "cell_type": "code",
      "source": [],
      "metadata": {
        "id": "7tCEDjvLAQdK"
      },
      "execution_count": null,
      "outputs": []
    }
  ]
}